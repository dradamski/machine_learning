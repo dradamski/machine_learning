{
 "cells": [
  {
   "cell_type": "code",
   "execution_count": 110,
   "metadata": {
    "collapsed": false
   },
   "outputs": [],
   "source": [
    "from pandas_datareader import data\n",
    "from datetime import datetime\n",
    "from matplotlib import pyplot as plt\n",
    "import pandas as pd\n",
    "import datetime\n",
    "import numpy as np"
   ]
  },
  {
   "cell_type": "code",
   "execution_count": 111,
   "metadata": {
    "collapsed": false
   },
   "outputs": [
    {
     "name": "stdout",
     "output_type": "stream",
     "text": [
      "[('Apple', 'AAPL'), ('Amazon', 'AMZN'), ('American Express', 'AXP'), ('Boeing', 'BA'), ('Bank of America', 'BAC'), ('Chevron', 'CVX'), ('Ford', 'F'), ('General Electrics', 'GE'), ('Honda', 'HMC'), ('IBM', 'IBM'), ('Intel', 'INTC'), ('Johnson & Johnson', 'JNJ'), ('Coca Cola', 'KO'), ('Lockheed Martin', 'LMT'), ('Mastercard', 'MA'), ('McDonalds', 'MCD'), ('Mitsubishi', 'MSBHY'), ('Microsoft', 'MSFT'), ('Navistar', 'NAV'), ('Northrup Grumman', 'NOC'), ('Pepsi', 'PEP'), ('Sony', 'SNE'), ('Symantec', 'SYMC'), ('Toyota', 'TM'), ('Texas INstruments', 'TXN'), ('Valero Energy', 'VLO'), ('Walgreen', 'WBA'), ('Exxon', 'XOM')]\n"
     ]
    }
   ],
   "source": [
    "companies_dict = {\n",
    "    'Amazon': 'AMZN',\n",
    "    'Apple': 'AAPL',\n",
    "    'Walgreen': 'WBA',\n",
    "    'Northrup Grumman': 'NOC',\n",
    "    'Boeing': 'BA',\n",
    "    'Lockheed Martin': 'LMT',\n",
    "    'McDonalds': 'MCD',\n",
    "    'Intel': 'INTC',\n",
    "    'Navistar': 'NAV',\n",
    "    'IBM': 'IBM',\n",
    "    'Texas INstruments': 'TXN',\n",
    "    'Mastercard': 'MA',\n",
    "    'Microsoft': 'MSFT',\n",
    "    'General Electrics': 'GE',\n",
    "    'Symantec': 'SYMC',\n",
    "    'American Express': 'AXP',\n",
    "    'Pepsi': 'PEP',\n",
    "    'Coca Cola': 'KO',\n",
    "    'Johnson & Johnson': 'JNJ',\n",
    "    'Toyota': 'TM',\n",
    "    'Honda': 'HMC',\n",
    "    'Mitsubishi': 'MSBHY',\n",
    "    'Sony': 'SNE',\n",
    "    'Exxon': 'XOM',\n",
    "    'Chevron': 'CVX',\n",
    "    'Valero Energy': 'VLO',\n",
    "    'Bank of America': 'BAC',\n",
    "    'Ford': 'F'\n",
    "}\n",
    "\n",
    "companies = sorted(companies_dict.items(), key=lambda x: x[1])\n",
    "print(companies)"
   ]
  },
  {
   "cell_type": "code",
   "execution_count": 112,
   "metadata": {
    "collapsed": false
   },
   "outputs": [],
   "source": [
    "# Define which online source to use\n",
    "data_source = 'morningstar'\n",
    "\n",
    "# Define the start and end date\n",
    "start_date = '2015-01-01'\n",
    "end_date = '2017-12-31'\n",
    "\n",
    "# Use panda_reader.data.DataReader to load the desired stock data\n",
    "panel_data = data.DataReader(companies_dict.values(), data_source, start_date, end_date)\n"
   ]
  },
  {
   "cell_type": "code",
   "execution_count": 113,
   "metadata": {
    "collapsed": false
   },
   "outputs": [],
   "source": [
    "#Converts multi index series into a Data frame\n",
    "check = panel_data.reset_index(inplace=True)\n",
    "check"
   ]
  },
  {
   "cell_type": "code",
   "execution_count": 118,
   "metadata": {
    "collapsed": false
   },
   "outputs": [
    {
     "name": "stdout",
     "output_type": "stream",
     "text": [
      "[RangeIndex(start=0, stop=21896, step=1), Index(['Symbol', 'Date', 'Close', 'High', 'Low', 'Open', 'Volume'], dtype='object')]\n"
     ]
    }
   ],
   "source": [
    "print(panel_data.axes)"
   ]
  },
  {
   "cell_type": "code",
   "execution_count": 126,
   "metadata": {
    "collapsed": false
   },
   "outputs": [],
   "source": [
    "stock_close = panel_data.iloc[:,2]\n",
    "stock_open = panel_data.iloc[:, 3]\n"
   ]
  },
  {
   "cell_type": "code",
   "execution_count": 132,
   "metadata": {
    "collapsed": false
   },
   "outputs": [
    {
     "data": {
      "text/plain": [
       "RangeIndex(start=0, stop=21896, step=1)"
      ]
     },
     "execution_count": 132,
     "metadata": {},
     "output_type": "execute_result"
    }
   ],
   "source": [
    "panel_data.index\n"
   ]
  },
  {
   "cell_type": "code",
   "execution_count": null,
   "metadata": {
    "collapsed": true
   },
   "outputs": [],
   "source": []
  },
  {
   "cell_type": "code",
   "execution_count": null,
   "metadata": {
    "collapsed": true
   },
   "outputs": [],
   "source": []
  }
 ],
 "metadata": {
  "kernelspec": {
   "display_name": "Python 3",
   "language": "python",
   "name": "python3"
  },
  "language_info": {
   "codemirror_mode": {
    "name": "ipython",
    "version": 3
   },
   "file_extension": ".py",
   "mimetype": "text/x-python",
   "name": "python",
   "nbconvert_exporter": "python",
   "pygments_lexer": "ipython3",
   "version": "3.6.0"
  }
 },
 "nbformat": 4,
 "nbformat_minor": 2
}
